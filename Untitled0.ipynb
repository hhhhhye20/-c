{
  "nbformat": 4,
  "nbformat_minor": 0,
  "metadata": {
    "colab": {
      "name": "Untitled0.ipynb",
      "provenance": [],
      "include_colab_link": true
    },
    "kernelspec": {
      "name": "python3",
      "display_name": "Python 3"
    }
  },
  "cells": [
    {
      "cell_type": "markdown",
      "metadata": {
        "id": "view-in-github",
        "colab_type": "text"
      },
      "source": [
        "<a href=\"https://colab.research.google.com/github/hhhhhye20/-c/blob/master/Untitled0.ipynb\" target=\"_parent\"><img src=\"https://colab.research.google.com/assets/colab-badge.svg\" alt=\"Open In Colab\"/></a>"
      ]
    },
    {
      "cell_type": "code",
      "metadata": {
        "id": "tJnBm9NFoyKG",
        "colab_type": "code",
        "outputId": "0b6bcf82-a82a-40ef-a6a7-8e475cd1ac26",
        "colab": {
          "base_uri": "https://localhost:8080/",
          "height": 105
        }
      },
      "source": [
        " class Library:\n",
        "  def __init__(self, name, book_list):\n",
        "    self.name = name, \n",
        "    self.book_list = []\n",
        "\n",
        "  def add_book(self, book):\n",
        "    if book.title in self.book_list:\n",
        "      print(\"현재{}책은 {}에 있습니다.\".format(book.title, self.name))\n",
        "\n",
        "    else:\n",
        "      (self.book_list).append(title)\n",
        "\n",
        " ''' def remove_book(self, book):\n",
        "    if book.title not in self.book_list:\n",
        "      print(\"현재 {}은 {}에 없습니다.\".format(book.title, self.name)))\n",
        "\n",
        "    else:\n",
        "      (self.book_list).remove(title) \n",
        "\n",
        "    @property\n",
        "    def info(self):\n",
        "      if len(self.book_list)>0:\n",
        "        print(\"현재 {}에 보유하고 있는 책은 {}권입니다\".format(self.name, len(self.book_list)))\n",
        "      else:\n",
        "        print(\"현재 {}가 보유하고 있는 책은 없습니다.\".format(self.name))'''\n",
        "\n",
        "\n",
        "class Book:\n",
        "  def __init__(self, title, location):\n",
        "    self.title = title\n",
        "    self.location = location\n",
        "\n",
        "\n",
        "  @property\n",
        "  def is_borrowed(self):\n",
        "    if self.location == 'Library':\n",
        "      print(\"현재{}은 도서관에 있습니다.\".format(title))\n",
        "\n",
        "    else:\n",
        "      print(\"현재{}는 다른사람이 대출중\".format(title))\n",
        "\n",
        "\n",
        "\n",
        "books=[Book(\"파우스트\", \"Library\"), Book(\"논어\", \"Library\"), Book(\"성경\",\"대출중\"),\n",
        "       Book(\"도덕경\",\"대출중\"), Book(\"파이썬\", \"대출중\")]\n",
        "\n",
        "Book.is_borrowed\n",
        "\n",
        "\n",
        "\n",
        "\n",
        "\n",
        "\n",
        "\n",
        "\n"
      ],
      "execution_count": 0,
      "outputs": [
        {
          "output_type": "stream",
          "text": [
            "<__main__.Book object at 0x7fe1b585d860>\n",
            "<__main__.Book object at 0x7fe1b585d828>\n",
            "<__main__.Book object at 0x7fe1b585d898>\n",
            "<__main__.Book object at 0x7fe1b585d8d0>\n",
            "<__main__.Book object at 0x7fe1b585d908>\n"
          ],
          "name": "stdout"
        }
      ]
    }
  ]
}